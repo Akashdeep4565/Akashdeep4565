{
  "nbformat": 4,
  "nbformat_minor": 0,
  "metadata": {
    "colab": {
      "provenance": [],
      "authorship_tag": "ABX9TyNLy9agVPxTtXJUDxgOHtVx",
      "include_colab_link": true
    },
    "kernelspec": {
      "name": "python3",
      "display_name": "Python 3"
    },
    "language_info": {
      "name": "python"
    }
  },
  "cells": [
    {
      "cell_type": "markdown",
      "metadata": {
        "id": "view-in-github",
        "colab_type": "text"
      },
      "source": [
        "<a href=\"https://colab.research.google.com/github/Akashdeep4565/Akashdeep4565/blob/main/Assignment%20%202.ipynb\" target=\"_parent\"><img src=\"https://colab.research.google.com/assets/colab-badge.svg\" alt=\"Open In Colab\"/></a>"
      ]
    },
    {
      "cell_type": "code",
      "execution_count": 1,
      "metadata": {
        "colab": {
          "base_uri": "https://localhost:8080/"
        },
        "id": "s_Vt4cYmBfyV",
        "outputId": "fac5351c-b47e-4b7e-e0f5-9a226c082fc6"
      },
      "outputs": [
        {
          "output_type": "stream",
          "name": "stdout",
          "text": [
            "Enter your name: Akash \n",
            "Enter your age: 21\n",
            "Akash , you will turn 100 years old in the year 2102.\n"
          ]
        }
      ],
      "source": [
        "import datetime\n",
        "\n",
        "def calculate_year_at_age_100(age):\n",
        "    current_year = datetime.datetime.now().year\n",
        "    year_at_100 = current_year + 100 - age \n",
        "    return year_at_100\n",
        "\n",
        "name = input(\"Enter your name: \")\n",
        "age = int(input(\"Enter your age: \"))\n",
        "\n",
        "year_at_100 = calculate_year_at_age_100(age)\n",
        "print(f\"{name}, you will turn 100 years old in the year {year_at_100}.\")"
      ]
    }
  ]
}